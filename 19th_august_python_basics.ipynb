{
 "cells": [
  {
   "cell_type": "code",
   "execution_count": 9,
   "id": "fd7071f5-ec51-4ed2-9e07-48b26cb818db",
   "metadata": {},
   "outputs": [],
   "source": [
    "#1. swapping the numbers#\n",
    "x=20    #first variable#\n",
    "y=40    #second variable#\n",
    "x=x+y   #place the value of y in x, and now x become 60\n",
    "y=x-y    # now new value of x is minus from y and we get old value of x in y and same as with y\n",
    "x=x-y"
   ]
  },
  {
   "cell_type": "code",
   "execution_count": 10,
   "id": "c24f2656-c865-4231-bf53-f52cc478a4b8",
   "metadata": {},
   "outputs": [
    {
     "data": {
      "text/plain": [
       "40"
      ]
     },
     "execution_count": 10,
     "metadata": {},
     "output_type": "execute_result"
    }
   ],
   "source": [
    "x"
   ]
  },
  {
   "cell_type": "code",
   "execution_count": 11,
   "id": "216c3d9f-03a3-40f7-8c72-87999dea2a9d",
   "metadata": {},
   "outputs": [
    {
     "data": {
      "text/plain": [
       "20"
      ]
     },
     "execution_count": 11,
     "metadata": {},
     "output_type": "execute_result"
    }
   ],
   "source": [
    "y"
   ]
  },
  {
   "cell_type": "code",
   "execution_count": 14,
   "id": "6d072a12-fb40-4072-a126-af97f88d6802",
   "metadata": {},
   "outputs": [
    {
     "name": "stdout",
     "output_type": "stream",
     "text": [
      "Enter the length of a Rectangle\n"
     ]
    },
    {
     "name": "stdin",
     "output_type": "stream",
     "text": [
      " 67\n"
     ]
    },
    {
     "name": "stdout",
     "output_type": "stream",
     "text": [
      "Enter the breath of the Rectangle\n"
     ]
    },
    {
     "name": "stdin",
     "output_type": "stream",
     "text": [
      " 65\n"
     ]
    },
    {
     "name": "stdout",
     "output_type": "stream",
     "text": [
      "\n",
      " Area of Rectangle is =  4355.0\n"
     ]
    }
   ],
   "source": [
    "# 2. program for calculating the area of the rectangle #\n",
    "print(\"Enter the length of a Rectangle\")\n",
    "\n",
    "length=float(input())\n",
    "\n",
    "print(\"Enter the breath of the Rectangle\")\n",
    "\n",
    "breath=float(input())\n",
    "Area= length* breath\n",
    "print(\"\\n Area of Rectangle is = \", Area)\n"
   ]
  },
  {
   "cell_type": "code",
   "execution_count": 15,
   "id": "5c827462-1220-4bde-b935-e8da3b840c2c",
   "metadata": {},
   "outputs": [
    {
     "data": {
      "text/plain": [
       "67.0"
      ]
     },
     "execution_count": 15,
     "metadata": {},
     "output_type": "execute_result"
    }
   ],
   "source": [
    "length\n"
   ]
  },
  {
   "cell_type": "code",
   "execution_count": 19,
   "id": "02adb7e5-606a-469c-9b91-3fd380e1e735",
   "metadata": {},
   "outputs": [
    {
     "name": "stdin",
     "output_type": "stream",
     "text": [
      "Enter the temprature in celcius :  56\n"
     ]
    },
    {
     "name": "stdout",
     "output_type": "stream",
     "text": [
      "56.00 Celsius is = 132.80 Farenheit \n"
     ]
    }
   ],
   "source": [
    "# 3. program to convert the temprature from celsius to farenheit\n",
    "\n",
    "celsius = float(input(\"Enter the temprature in celcius : \"))     # take the value from user and convert it in float\n",
    "\n",
    "farenheit =(celsius*1.8) + 32   # store the value of cesius in faenheit  using formula \n",
    "\n",
    "print(\"%.2f Celsius is = %.2f Farenheit \" %(celsius, farenheit))        # using .2f for getting result in 2 decimal places\n",
    "      \n"
   ]
  },
  {
   "cell_type": "code",
   "execution_count": 12,
   "id": "a2728c37-85e8-460c-85cd-659f126105c3",
   "metadata": {},
   "outputs": [
    {
     "name": "stdout",
     "output_type": "stream",
     "text": [
      " \n",
      " length of the string is : 33\n"
     ]
    }
   ],
   "source": [
    "#     Topic :string based question\n",
    "#     1.program for print the length of the string\n",
    "\n",
    "             s1=\"this is my first python prrograam\"\n",
    "\n",
    "               print(\" \\n Length of the Given String is :\" , len(s1))\n",
    "\n"
   ]
  },
  {
   "cell_type": "code",
   "execution_count": 13,
   "id": "2fe767e0-2693-441d-86b0-307c619820dd",
   "metadata": {},
   "outputs": [
    {
     "data": {
      "text/plain": [
       "'this is my first python prrograam'"
      ]
     },
     "execution_count": 13,
     "metadata": {},
     "output_type": "execute_result"
    }
   ],
   "source": [
    "s1"
   ]
  },
  {
   "cell_type": "code",
   "execution_count": 12,
   "id": "92ade6d6-c3bb-4f41-afe0-99e7bc0f6142",
   "metadata": {},
   "outputs": [
    {
     "name": "stdin",
     "output_type": "stream",
     "text": [
      "please Enter the Sentence : hellow my name IS PRIYAnka siNGH AND I WANT TO PLAUUY EVERY TIME\n"
     ]
    },
    {
     "name": "stdout",
     "output_type": "stream",
     "text": [
      "hellow my name is priyanka singh and i want to plauuy every time\n",
      "\n",
      " number of vowels in given sentence is : 20\n"
     ]
    }
   ],
   "source": [
    "# PROGRAM FOR COUNTS THE NUMBER OF VOWELS :\n",
    "\n",
    "\n",
    "str= input(\"please Enter the Sentence :\")\n",
    "string=str.lower()\n",
    "print( string )\n",
    "count=0\n",
    "l1=[\"a\",\"e\",\"i\",\"o\",\"u\",]\n",
    "for char in string:\n",
    "   if char in l1:\n",
    "     count=count+1\n",
    "print(\"\\n number of vowels in given sentence is :\", count)\n",
    "\n"
   ]
  },
  {
   "cell_type": "code",
   "execution_count": 18,
   "id": "6a5eb4d7-721e-41f4-b65d-578203beee9a",
   "metadata": {},
   "outputs": [
    {
     "name": "stdout",
     "output_type": "stream",
     "text": [
      " this is my first python string program\n",
      "\n",
      " Reverse string is : margorp gnirts nohtyp tsrif ym si siht \n"
     ]
    }
   ],
   "source": [
    "# REVERSED THE ORDER OF CHARECTER OF STRING\n",
    "\n",
    "str=\" this is my first python string program\"\n",
    "\n",
    "print(str)\n",
    "\n",
    "print(\"\\n Reverse string is :\", str[::-1])\n",
    "\n"
   ]
  },
  {
   "cell_type": "code",
   "execution_count": 27,
   "id": "cf3e3381-fb2a-4f8a-8978-32ba26e05940",
   "metadata": {},
   "outputs": [
    {
     "name": "stdin",
     "output_type": "stream",
     "text": [
      "Please Enter The String : tnos is mya first\n"
     ]
    },
    {
     "name": "stdout",
     "output_type": "stream",
     "text": [
      "tnos is mya first is not a plandron\n"
     ]
    }
   ],
   "source": [
    "# Program for given string is plandrom or not\n",
    "\n",
    "str1=input(\"Please Enter The String :\")\n",
    "if str1==str1[::-1]:\n",
    " print (str1 + \" is a plandrom\")\n",
    "else:\n",
    " print (str1 + \" is not a plandron\")\n",
    "\n",
    "    \n",
    "    \n",
    "    \n",
    "    \n",
    "    \n",
    "    \n",
    "    "
   ]
  },
  {
   "cell_type": "code",
   "execution_count": 9,
   "id": "01ebfe1d-dffa-4749-b778-9e15d886679d",
   "metadata": {},
   "outputs": [
    {
     "name": "stdin",
     "output_type": "stream",
     "text": [
      "Enter the string : this is my    first char \n"
     ]
    },
    {
     "name": "stdout",
     "output_type": "stream",
     "text": [
      "thisismyfirstchar\n"
     ]
    }
   ],
   "source": [
    "# program for remove the space from string and print the modified string\n",
    "\n",
    "string=input(\"Enter the string :\")\n",
    "string=string.replace(\" \",\"\" )\n",
    "print(string)\n",
    "\n",
    "\n"
   ]
  },
  {
   "cell_type": "code",
   "execution_count": null,
   "id": "fd04a41d-d8a5-4297-bfe9-80e159ffaac9",
   "metadata": {},
   "outputs": [],
   "source": []
  }
 ],
 "metadata": {
  "kernelspec": {
   "display_name": "Python 3 (ipykernel)",
   "language": "python",
   "name": "python3"
  },
  "language_info": {
   "codemirror_mode": {
    "name": "ipython",
    "version": 3
   },
   "file_extension": ".py",
   "mimetype": "text/x-python",
   "name": "python",
   "nbconvert_exporter": "python",
   "pygments_lexer": "ipython3",
   "version": "3.10.8"
  }
 },
 "nbformat": 4,
 "nbformat_minor": 5
}
